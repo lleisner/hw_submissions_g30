{
  "cells": [
    {
      "cell_type": "code",
      "execution_count": 1,
      "metadata": {
        "id": "bxh1nZUrAidZ"
      },
      "outputs": [],
      "source": [
        "import tensorflow as tf\n",
        "import time\n",
        "import tensorflow\n",
        "import tqdm.notebook as note\n",
        "import numpy as np\n",
        "import scipy\n",
        "import re"
      ]
    },
    {
      "cell_type": "code",
      "source": [
        "from google.colab import drive\n",
        "drive.mount('/content/drive')"
      ],
      "metadata": {
        "colab": {
          "base_uri": "https://localhost:8080/"
        },
        "id": "jhNFCdIi0cSI",
        "outputId": "4f8e4636-3537-4df7-824e-199701f1b082"
      },
      "execution_count": 2,
      "outputs": [
        {
          "output_type": "stream",
          "name": "stdout",
          "text": [
            "Mounted at /content/drive\n"
          ]
        }
      ]
    },
    {
      "cell_type": "code",
      "execution_count": 3,
      "metadata": {
        "id": "kqVjErqRoV0H"
      },
      "outputs": [],
      "source": [
        "with open(\"drive/MyDrive/bible.txt\",'r') as f:\n",
        "    text = f.read()\n",
        "\n",
        "text = re.sub(r'\\s(?=\\s)|[^\\sa-zA-Z0-9]+',' ',text.lower())\n",
        "text = re.sub(r' +', ' ', text)\n",
        "text = text.split()"
      ]
    },
    {
      "cell_type": "code",
      "execution_count": 4,
      "metadata": {
        "id": "0v-5TPBb0SGP"
      },
      "outputs": [],
      "source": [
        "words, _, counts = tf.unique_with_counts(text)\n",
        "words, counts = np.asarray(words.numpy(), dtype='U'), counts.numpy()\n",
        "words = words[counts >= sorted(counts)[-10000]]"
      ]
    },
    {
      "cell_type": "code",
      "execution_count": 5,
      "metadata": {
        "id": "9iPJT6Wz0SGP"
      },
      "outputs": [],
      "source": [
        "def build_vocab(words):\n",
        "    return {a: i for i, a in enumerate(words)}\n",
        "\n",
        "def build_index2token(vocab):\n",
        "    return {value:key for key,value in vocab.items()}"
      ]
    },
    {
      "cell_type": "code",
      "execution_count": 6,
      "metadata": {
        "scrolled": true,
        "id": "zEzKt58n0SGQ"
      },
      "outputs": [],
      "source": [
        "vocab = build_vocab(words)\n",
        "index2token = build_index2token(vocab)\n",
        "text = [vocab[t] for t in text if t in vocab.keys()]\n",
        "data = tf.cast(tf.reshape(tf.convert_to_tensor(list(vocab.values())),[1,-1]),tf.int64)\n",
        "_, _, counts = map(lambda x:x.numpy(), tf.unique_with_counts(text))\n",
        "counts = counts.astype(float)/len(text)"
      ]
    },
    {
      "cell_type": "code",
      "execution_count": 7,
      "metadata": {
        "id": "tZ_HNuTB0SGQ"
      },
      "outputs": [],
      "source": [
        "d = []\n",
        "for i in range(len(text)):\n",
        "    for j in [-2, -1, 1, 2]:\n",
        "        if i + j >= 0 and i + j < len(text):\n",
        "            d.append((text[i], text[i + j]))\n",
        "d = np.array(d)\n",
        "\n",
        "ds = tf.data.Dataset.from_tensor_slices((d[:,0], d[:,1]))\n",
        "\n",
        "ds = ds.shuffle(1000)\n",
        "ds = ds.batch(128)\n",
        "ds = ds.map(lambda a, b: (a, tf.reshape(b, (-1,1))))\n",
        "ds = ds.prefetch(20).cache()"
      ]
    },
    {
      "cell_type": "code",
      "execution_count": 8,
      "metadata": {
        "id": "zBEo74CZ-f6W"
      },
      "outputs": [],
      "source": [
        "class SkipGramModel(tf.keras.layers.Layer):\n",
        "    def __init__(self, embedding_size, vocabulary_size):\n",
        "        super(SkipGramModel, self).__init__()\n",
        "        self.embedding_size = embedding_size\n",
        "        self.vocabulary_size = vocabulary_size\n",
        "\n",
        "        self.nce_weights = tf.Variable(tf.random.normal([self.vocabulary_size, self.embedding_size]))\n",
        "        self.nce_biases = tf.Variable(tf.zeros([self.vocabulary_size]))\n",
        "\n",
        "        self.embedding = tf.Variable(tf.random.uniform([self.vocabulary_size, self.embedding_size]))\n",
        "\n",
        "    def call(self, words, labels):\n",
        "        number_of_negative_samples = 64\n",
        "        words_embedded = tf.nn.embedding_lookup(self.embedding, words)\n",
        "\n",
        "        sampled_values=tf.random.fixed_unigram_candidate_sampler(data,self.vocabulary_size,number_of_negative_samples,False,range_max=self.vocabulary_size,unigrams=counts)\n",
        "\n",
        "        return tf.reduce_mean(tf.nn.nce_loss(weights=self.nce_weights,biases=self.nce_biases, labels=labels,  inputs=words_embedded,  num_sampled=number_of_negative_samples, num_classes=self.vocabulary_size,sampled_values=sampled_values))"
      ]
    },
    {
      "cell_type": "code",
      "execution_count": null,
      "metadata": {
        "colab": {
          "base_uri": "https://localhost:8080/",
          "height": 66,
          "referenced_widgets": [
            "987410851de54a7f9a7b9e6ebf020a83",
            "e08f6307e0df4378aea5de69e4bf810d",
            "9d3adf88b4824579bb78029d687576f8",
            "df395543e24e4167ae225cd58fd37ca0",
            "a79fecb129c44994a09673d445d1d05b",
            "a664a5e973e84e17b41dac48ad979e86",
            "5eadebcead3443ddbc11de15cf570faa",
            "b5d51e891ea34c32b9ccf76b961a89d3",
            "f23a08a7d25e4c3d841d6006686d8168",
            "a4c6faa0688348caa45f356f567ed80b",
            "ea84abaf237347b7be030147b8cba284"
          ]
        },
        "id": "BvlNldmM-kxp",
        "outputId": "62221dc1-21cd-4dd7-88d5-d0a6bfcacc52"
      },
      "outputs": [
        {
          "output_type": "stream",
          "name": "stdout",
          "text": [
            "Epoch 0\n"
          ]
        },
        {
          "output_type": "display_data",
          "data": {
            "application/vnd.jupyter.widget-view+json": {
              "model_id": "987410851de54a7f9a7b9e6ebf020a83",
              "version_minor": 0,
              "version_major": 2
            },
            "text/plain": [
              "  0%|          | 0/26689 [00:00<?, ?it/s]"
            ]
          },
          "metadata": {}
        }
      ],
      "source": [
        "tf.keras.backend.clear_session()\n",
        "\n",
        "learning_rate = 0.001\n",
        "\n",
        "num_epochs = 5\n",
        "hidden_size = 64\n",
        "\n",
        "Model = SkipGramModel(hidden_size, len(vocab))\n",
        "\n",
        "optimizer = tf.optimizers.Adam(learning_rate)    \n",
        "\n",
        "train_losses = []\n",
        "\n",
        "for epoch in range(num_epochs):\n",
        "    print(f'Epoch {str(epoch)}')\n",
        "\n",
        "    epoch_loss_agg = np.empty(0)\n",
        "\n",
        "    for input, target in note.tqdm(ds, position=0,leave=True):\n",
        "      \n",
        "        with tf.GradientTape() as tape:\n",
        "            loss = Model(input,target)\n",
        "\n",
        "        gradients = tape.gradient(loss, Model.trainable_variables)\n",
        "        optimizer.apply_gradients(zip(gradients, Model.trainable_variables))\n",
        "        epoch_loss_agg = np.append(epoch_loss_agg, loss)\n",
        "                   \n",
        "    train_losses = np.append(train_losses, tf.reduce_mean(epoch_loss_agg))            \n",
        "                   \n",
        "    print(f\"Finished epoch {epoch+1} with loss: {train_losses[-1]}\")"
      ]
    },
    {
      "cell_type": "code",
      "execution_count": null,
      "metadata": {
        "id": "V-hezdO40SGT"
      },
      "outputs": [],
      "source": [
        ""
      ]
    }
  ],
  "metadata": {
    "accelerator": "GPU",
    "colab": {
      "name": "homework_10.ipynb",
      "provenance": []
    },
    "kernelspec": {
      "display_name": "Python 3 (ipykernel)",
      "language": "python",
      "name": "python3"
    },
    "language_info": {
      "codemirror_mode": {
        "name": "ipython",
        "version": 3
      },
      "file_extension": ".py",
      "mimetype": "text/x-python",
      "name": "python",
      "nbconvert_exporter": "python",
      "pygments_lexer": "ipython3",
      "version": "3.9.7"
    },
    "widgets": {
      "application/vnd.jupyter.widget-state+json": {
        "987410851de54a7f9a7b9e6ebf020a83": {
          "model_module": "@jupyter-widgets/controls",
          "model_name": "HBoxModel",
          "model_module_version": "1.5.0",
          "state": {
            "_view_name": "HBoxView",
            "_dom_classes": [],
            "_model_name": "HBoxModel",
            "_view_module": "@jupyter-widgets/controls",
            "_model_module_version": "1.5.0",
            "_view_count": null,
            "_view_module_version": "1.5.0",
            "box_style": "",
            "layout": "IPY_MODEL_e08f6307e0df4378aea5de69e4bf810d",
            "_model_module": "@jupyter-widgets/controls",
            "children": [
              "IPY_MODEL_9d3adf88b4824579bb78029d687576f8",
              "IPY_MODEL_df395543e24e4167ae225cd58fd37ca0",
              "IPY_MODEL_a79fecb129c44994a09673d445d1d05b"
            ]
          }
        },
        "e08f6307e0df4378aea5de69e4bf810d": {
          "model_module": "@jupyter-widgets/base",
          "model_name": "LayoutModel",
          "model_module_version": "1.2.0",
          "state": {
            "_view_name": "LayoutView",
            "grid_template_rows": null,
            "right": null,
            "justify_content": null,
            "_view_module": "@jupyter-widgets/base",
            "overflow": null,
            "_model_module_version": "1.2.0",
            "_view_count": null,
            "flex_flow": null,
            "width": null,
            "min_width": null,
            "border": null,
            "align_items": null,
            "bottom": null,
            "_model_module": "@jupyter-widgets/base",
            "top": null,
            "grid_column": null,
            "overflow_y": null,
            "overflow_x": null,
            "grid_auto_flow": null,
            "grid_area": null,
            "grid_template_columns": null,
            "flex": null,
            "_model_name": "LayoutModel",
            "justify_items": null,
            "grid_row": null,
            "max_height": null,
            "align_content": null,
            "visibility": null,
            "align_self": null,
            "height": null,
            "min_height": null,
            "padding": null,
            "grid_auto_rows": null,
            "grid_gap": null,
            "max_width": null,
            "order": null,
            "_view_module_version": "1.2.0",
            "grid_template_areas": null,
            "object_position": null,
            "object_fit": null,
            "grid_auto_columns": null,
            "margin": null,
            "display": null,
            "left": null
          }
        },
        "9d3adf88b4824579bb78029d687576f8": {
          "model_module": "@jupyter-widgets/controls",
          "model_name": "HTMLModel",
          "model_module_version": "1.5.0",
          "state": {
            "_view_name": "HTMLView",
            "style": "IPY_MODEL_a664a5e973e84e17b41dac48ad979e86",
            "_dom_classes": [],
            "description": "",
            "_model_name": "HTMLModel",
            "placeholder": "​",
            "_view_module": "@jupyter-widgets/controls",
            "_model_module_version": "1.5.0",
            "value": "  1%",
            "_view_count": null,
            "_view_module_version": "1.5.0",
            "description_tooltip": null,
            "_model_module": "@jupyter-widgets/controls",
            "layout": "IPY_MODEL_5eadebcead3443ddbc11de15cf570faa"
          }
        },
        "df395543e24e4167ae225cd58fd37ca0": {
          "model_module": "@jupyter-widgets/controls",
          "model_name": "FloatProgressModel",
          "model_module_version": "1.5.0",
          "state": {
            "_view_name": "ProgressView",
            "style": "IPY_MODEL_b5d51e891ea34c32b9ccf76b961a89d3",
            "_dom_classes": [],
            "description": "",
            "_model_name": "FloatProgressModel",
            "bar_style": "",
            "max": 26689,
            "_view_module": "@jupyter-widgets/controls",
            "_model_module_version": "1.5.0",
            "value": 384,
            "_view_count": null,
            "_view_module_version": "1.5.0",
            "orientation": "horizontal",
            "min": 0,
            "description_tooltip": null,
            "_model_module": "@jupyter-widgets/controls",
            "layout": "IPY_MODEL_f23a08a7d25e4c3d841d6006686d8168"
          }
        },
        "a79fecb129c44994a09673d445d1d05b": {
          "model_module": "@jupyter-widgets/controls",
          "model_name": "HTMLModel",
          "model_module_version": "1.5.0",
          "state": {
            "_view_name": "HTMLView",
            "style": "IPY_MODEL_a4c6faa0688348caa45f356f567ed80b",
            "_dom_classes": [],
            "description": "",
            "_model_name": "HTMLModel",
            "placeholder": "​",
            "_view_module": "@jupyter-widgets/controls",
            "_model_module_version": "1.5.0",
            "value": " 384/26689 [00:21&lt;17:44, 24.72it/s]",
            "_view_count": null,
            "_view_module_version": "1.5.0",
            "description_tooltip": null,
            "_model_module": "@jupyter-widgets/controls",
            "layout": "IPY_MODEL_ea84abaf237347b7be030147b8cba284"
          }
        },
        "a664a5e973e84e17b41dac48ad979e86": {
          "model_module": "@jupyter-widgets/controls",
          "model_name": "DescriptionStyleModel",
          "model_module_version": "1.5.0",
          "state": {
            "_view_name": "StyleView",
            "_model_name": "DescriptionStyleModel",
            "description_width": "",
            "_view_module": "@jupyter-widgets/base",
            "_model_module_version": "1.5.0",
            "_view_count": null,
            "_view_module_version": "1.2.0",
            "_model_module": "@jupyter-widgets/controls"
          }
        },
        "5eadebcead3443ddbc11de15cf570faa": {
          "model_module": "@jupyter-widgets/base",
          "model_name": "LayoutModel",
          "model_module_version": "1.2.0",
          "state": {
            "_view_name": "LayoutView",
            "grid_template_rows": null,
            "right": null,
            "justify_content": null,
            "_view_module": "@jupyter-widgets/base",
            "overflow": null,
            "_model_module_version": "1.2.0",
            "_view_count": null,
            "flex_flow": null,
            "width": null,
            "min_width": null,
            "border": null,
            "align_items": null,
            "bottom": null,
            "_model_module": "@jupyter-widgets/base",
            "top": null,
            "grid_column": null,
            "overflow_y": null,
            "overflow_x": null,
            "grid_auto_flow": null,
            "grid_area": null,
            "grid_template_columns": null,
            "flex": null,
            "_model_name": "LayoutModel",
            "justify_items": null,
            "grid_row": null,
            "max_height": null,
            "align_content": null,
            "visibility": null,
            "align_self": null,
            "height": null,
            "min_height": null,
            "padding": null,
            "grid_auto_rows": null,
            "grid_gap": null,
            "max_width": null,
            "order": null,
            "_view_module_version": "1.2.0",
            "grid_template_areas": null,
            "object_position": null,
            "object_fit": null,
            "grid_auto_columns": null,
            "margin": null,
            "display": null,
            "left": null
          }
        },
        "b5d51e891ea34c32b9ccf76b961a89d3": {
          "model_module": "@jupyter-widgets/controls",
          "model_name": "ProgressStyleModel",
          "model_module_version": "1.5.0",
          "state": {
            "_view_name": "StyleView",
            "_model_name": "ProgressStyleModel",
            "description_width": "",
            "_view_module": "@jupyter-widgets/base",
            "_model_module_version": "1.5.0",
            "_view_count": null,
            "_view_module_version": "1.2.0",
            "bar_color": null,
            "_model_module": "@jupyter-widgets/controls"
          }
        },
        "f23a08a7d25e4c3d841d6006686d8168": {
          "model_module": "@jupyter-widgets/base",
          "model_name": "LayoutModel",
          "model_module_version": "1.2.0",
          "state": {
            "_view_name": "LayoutView",
            "grid_template_rows": null,
            "right": null,
            "justify_content": null,
            "_view_module": "@jupyter-widgets/base",
            "overflow": null,
            "_model_module_version": "1.2.0",
            "_view_count": null,
            "flex_flow": null,
            "width": null,
            "min_width": null,
            "border": null,
            "align_items": null,
            "bottom": null,
            "_model_module": "@jupyter-widgets/base",
            "top": null,
            "grid_column": null,
            "overflow_y": null,
            "overflow_x": null,
            "grid_auto_flow": null,
            "grid_area": null,
            "grid_template_columns": null,
            "flex": null,
            "_model_name": "LayoutModel",
            "justify_items": null,
            "grid_row": null,
            "max_height": null,
            "align_content": null,
            "visibility": null,
            "align_self": null,
            "height": null,
            "min_height": null,
            "padding": null,
            "grid_auto_rows": null,
            "grid_gap": null,
            "max_width": null,
            "order": null,
            "_view_module_version": "1.2.0",
            "grid_template_areas": null,
            "object_position": null,
            "object_fit": null,
            "grid_auto_columns": null,
            "margin": null,
            "display": null,
            "left": null
          }
        },
        "a4c6faa0688348caa45f356f567ed80b": {
          "model_module": "@jupyter-widgets/controls",
          "model_name": "DescriptionStyleModel",
          "model_module_version": "1.5.0",
          "state": {
            "_view_name": "StyleView",
            "_model_name": "DescriptionStyleModel",
            "description_width": "",
            "_view_module": "@jupyter-widgets/base",
            "_model_module_version": "1.5.0",
            "_view_count": null,
            "_view_module_version": "1.2.0",
            "_model_module": "@jupyter-widgets/controls"
          }
        },
        "ea84abaf237347b7be030147b8cba284": {
          "model_module": "@jupyter-widgets/base",
          "model_name": "LayoutModel",
          "model_module_version": "1.2.0",
          "state": {
            "_view_name": "LayoutView",
            "grid_template_rows": null,
            "right": null,
            "justify_content": null,
            "_view_module": "@jupyter-widgets/base",
            "overflow": null,
            "_model_module_version": "1.2.0",
            "_view_count": null,
            "flex_flow": null,
            "width": null,
            "min_width": null,
            "border": null,
            "align_items": null,
            "bottom": null,
            "_model_module": "@jupyter-widgets/base",
            "top": null,
            "grid_column": null,
            "overflow_y": null,
            "overflow_x": null,
            "grid_auto_flow": null,
            "grid_area": null,
            "grid_template_columns": null,
            "flex": null,
            "_model_name": "LayoutModel",
            "justify_items": null,
            "grid_row": null,
            "max_height": null,
            "align_content": null,
            "visibility": null,
            "align_self": null,
            "height": null,
            "min_height": null,
            "padding": null,
            "grid_auto_rows": null,
            "grid_gap": null,
            "max_width": null,
            "order": null,
            "_view_module_version": "1.2.0",
            "grid_template_areas": null,
            "object_position": null,
            "object_fit": null,
            "grid_auto_columns": null,
            "margin": null,
            "display": null,
            "left": null
          }
        }
      }
    }
  },
  "nbformat": 4,
  "nbformat_minor": 0
}