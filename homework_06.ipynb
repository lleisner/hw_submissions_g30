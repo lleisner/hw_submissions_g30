{
  "nbformat": 4,
  "nbformat_minor": 5,
  "metadata": {
    "kernelspec": {
      "display_name": "Python 3 (ipykernel)",
      "language": "python",
      "name": "python3"
    },
    "language_info": {
      "codemirror_mode": {
        "name": "ipython",
        "version": 3
      },
      "file_extension": ".py",
      "mimetype": "text/x-python",
      "name": "python",
      "nbconvert_exporter": "python",
      "pygments_lexer": "ipython3",
      "version": "3.9.7"
    },
    "colab": {
      "name": "homework_6_1.ipynb",
      "provenance": [],
      "collapsed_sections": []
    },
    "accelerator": "GPU"
  },
  "cells": [
    {
      "cell_type": "markdown",
      "metadata": {
        "id": "f639bb6c"
      },
      "source": [
        "# Imports"
      ],
      "id": "f639bb6c"
    },
    {
      "cell_type": "code",
      "metadata": {
        "id": "047b6267"
      },
      "source": [
        "import tensorflow as tf\n",
        "import tensorflow_datasets as tfds\n",
        "import numpy as np\n",
        "import matplotlib.pyplot as plt"
      ],
      "id": "047b6267",
      "execution_count": 1,
      "outputs": []
    },
    {
      "cell_type": "markdown",
      "metadata": {
        "id": "84e60f35"
      },
      "source": [
        "# Data Preperation"
      ],
      "id": "84e60f35"
    },
    {
      "cell_type": "code",
      "metadata": {
        "id": "0567a62e"
      },
      "source": [
        "def prepare_data(ds):\n",
        "    ds = ds.map(lambda f, t: ((tf.cast(f, tf.float32)-122.5)/122.5, tf.one_hot(t, 10)))\n",
        "    return ds.cache().shuffle(10000).batch(128).prefetch(20)"
      ],
      "id": "0567a62e",
      "execution_count": 2,
      "outputs": []
    },
    {
      "cell_type": "markdown",
      "metadata": {
        "id": "d23e1756"
      },
      "source": [
        "# ResNet"
      ],
      "id": "d23e1756"
    },
    {
      "cell_type": "code",
      "metadata": {
        "id": "a8381351"
      },
      "source": [
        "class ResidualBlock(tf.keras.Model):\n",
        "    \n",
        "    def __init__(self, n_filters=64, out_filters=256, mode=\"normal\"):\n",
        "        super(ResidualBlock, self).__init__()\n",
        "        self.mode = mode\n",
        "        \n",
        "        self.conv1 = tf.keras.layers.Conv2D(filters=n_filters, kernel_size=(1,1))\n",
        "        self.bn1 = tf.keras.layers.BatchNormalization()\n",
        "        \n",
        "        if mode == \"normal\":\n",
        "            self.conv2a = tf.keras.layers.Conv2D(filters=n_filters, kernel_size=(3,3), padding=\"same\")\n",
        "            self.conv2b = tf.keras.layers.Conv2D(filters=out_filters, kernel_size=(1,1))\n",
        "            \n",
        "        elif mode == \"strided\":\n",
        "            self.conv2 = tf.keras.layers.Conv2D(filters=n_filters, kernel_size=(3,3), padding=\"same\", strides=(2,2))\n",
        "            self.pool = tf.keras.layers.MaxPool2D(pool_size=(1,1), strides=(2,2))\n",
        "            \n",
        "        elif mode == \"constant\":\n",
        "            self.conv2 = tf.keras.layers.Conv2D(filters=n_filters, kernel_size=(3,3), padding=\"same\")\n",
        "            \n",
        "        self.bn2 = tf.keras.layers.BatchNormalization()\n",
        "\n",
        "        self.conv3 = tf.keras.layers.Conv2D(filters=out_filters, kernel_size=(1,1))\n",
        "        self.bn3 = tf.keras.layers.BatchNormalization()\n",
        "        \n",
        "    @tf.function\n",
        "    def call(self, input_tensor, training=False):        \n",
        "        x = self.conv1(input_tensor)\n",
        "        x = self.bn1(x, training=training)\n",
        "        x = tf.nn.relu(x)\n",
        "        \n",
        "        if self.mode == \"normal\":\n",
        "            x = self.conv2a(x)\n",
        "            input_tensor = self.conv2b(input_tensor)\n",
        "            \n",
        "        elif self.mode == \"strided\":\n",
        "            x = self.conv2(x)\n",
        "            input_tensor = self.pool(input_tensor)\n",
        "            \n",
        "        elif self.mode == \"constant\":\n",
        "            x = self.conv2(x)\n",
        "            \n",
        "        x = self.bn2(x, training=training)\n",
        "        x = tf.nn.relu(x)\n",
        "        \n",
        "        x = self.conv3(x)\n",
        "        x = self.bn3(x)\n",
        "        \n",
        "        x += input_tensor\n",
        "        return tf.nn.relu(x)"
      ],
      "id": "a8381351",
      "execution_count": 3,
      "outputs": []
    },
    {
      "cell_type": "code",
      "metadata": {
        "id": "5921ed24"
      },
      "source": [
        "class ResNet(tf.keras.Model):\n",
        "    \n",
        "    def __init__(self, n_filters, out_filters, modes):\n",
        "        super(ResNet, self).__init__()\n",
        "        self.conv = tf.keras.layers.Conv2D(filters=32, kernel_size=3, padding=\"same\", activation=\"relu\")\n",
        "        self.bn = tf.keras.layers.BatchNormalization()\n",
        "        \n",
        "        self.blocks = [ResidualBlock(n, out, mode) for n, out, mode in zip(n_filters, out_filters, modes)]\n",
        "        \n",
        "        self.pool = tf.keras.layers.GlobalAvgPool2D()\n",
        "        self.dense = tf.keras.layers.Dense(10, activation=\"softmax\")\n",
        "    \n",
        "    @tf.function\n",
        "    def call(self, input_tensor, training=False):\n",
        "        x = self.conv(input_tensor)\n",
        "        x = self.bn(x, training=training)\n",
        "        x = tf.nn.relu(x)\n",
        "        \n",
        "        for b in self.blocks:\n",
        "            x = b(x, training=training)\n",
        "            \n",
        "        x = self.pool(x)\n",
        "        return self.dense(x)\n",
        "        "
      ],
      "id": "5921ed24",
      "execution_count": 4,
      "outputs": []
    },
    {
      "cell_type": "markdown",
      "metadata": {
        "id": "921a51e6"
      },
      "source": [
        "# DenseNet"
      ],
      "id": "921a51e6"
    },
    {
      "cell_type": "code",
      "metadata": {
        "id": "1dbac55d"
      },
      "source": [
        "class DenseBlock(tf.keras.Model):\n",
        "    \n",
        "    def __init__(self, n_filters):\n",
        "        super(DenseBlock, self).__init__()\n",
        "        \n",
        "        self.conv1 = tf.keras.layers.Conv2D(n_filters * 4, kernel_size=(1,1), padding=\"valid\", use_bias=False)\n",
        "        self.bn1 = tf.keras.layers.BatchNormalization(epsilon=1.001e-05)\n",
        "        \n",
        "        self.conv2 = tf.keras.layers.Conv2D(n_filters, kernel_size=(3,3), padding=\"same\", use_bias=False)\n",
        "        self.bn2 = tf.keras.layers.BatchNormalization(epsilon=1.001e-05)\n",
        "        \n",
        "        self.concat = tf.keras.layers.Concatenate(axis=3)\n",
        "        \n",
        "    @tf.function\n",
        "    def call(self, input_tensor, training=False):\n",
        "        x = self.conv1(input_tensor)\n",
        "        x = self.bn1(x, training=training)\n",
        "        x = tf.nn.relu(x)\n",
        "        \n",
        "        x = self.conv2(x)\n",
        "        x = self.bn2(x, training=training)\n",
        "        x = tf.nn.relu(x)\n",
        "        \n",
        "        return self.concat([input_tensor, x])"
      ],
      "id": "1dbac55d",
      "execution_count": 5,
      "outputs": []
    },
    {
      "cell_type": "code",
      "metadata": {
        "id": "b1f8a0d9"
      },
      "source": [
        "class TransitionLayer(tf.keras.Model):\n",
        "    \n",
        "    def __init__(self, n_filters):\n",
        "        super(TransitionLayer, self).__init__()\n",
        "        \n",
        "        self.conv = tf.keras.layers.Conv2D(n_filters, kernel_size=(1,1), padding=\"valid\", use_bias=False)\n",
        "        self.bn = tf.keras.layers.BatchNormalization(epsilon=1.001e-05)\n",
        "        \n",
        "        self.pool = tf.keras.layers.AvgPool2D(pool_size=(2,2), strides=(2,2), padding=\"valid\")\n",
        "        \n",
        "    @tf.function\n",
        "    def call(self, input_tensor, training=False):\n",
        "        x = self.conv(input_tensor)\n",
        "        x = self.bn(x, training=training)\n",
        "        x = tf.nn.relu(x)\n",
        "        \n",
        "        x = self.pool(x)\n",
        "        return x"
      ],
      "id": "b1f8a0d9",
      "execution_count": 6,
      "outputs": []
    },
    {
      "cell_type": "code",
      "metadata": {
        "id": "a8fedd63"
      },
      "source": [
        "class DenseNet(tf.keras.Model):\n",
        "    \n",
        "    def __init__(self, n_blocks, n_filters, growth_rate):\n",
        "        super(DenseNet, self).__init__()\n",
        "        \n",
        "        self.zero_padding = tf.keras.layers.ZeroPadding2D(padding=(1, 1), data_format=None)\n",
        "        self.max_pool = tf.keras.layers.MaxPool2D(pool_size=(3,3), strides=(2,2), padding=\"valid\")\n",
        "        \n",
        "        self.blocks = [[DenseBlock(n_filters) for _ in range(n)] for n in n_blocks]\n",
        "        self.transitions = [TransitionLayer(n * growth_rate) for n in n_blocks[:-1]]\n",
        "        \n",
        "        self.bn = tf.keras.layers.BatchNormalization(epsilon=1.001e-05)\n",
        "        \n",
        "        self.pool = tf.keras.layers.GlobalAveragePooling2D()\n",
        "        self.dense = tf.keras.layers.Dense(10, activation=\"softmax\")\n",
        "        \n",
        "    @tf.function\n",
        "    def call(self, input_tensor, training=False):\n",
        "        x = self.zero_padding(input_tensor)\n",
        "        x = self.max_pool(x)\n",
        "        \n",
        "        for i, block in enumerate(self.blocks):\n",
        "            for b in block:\n",
        "                x = b(x, training=training)\n",
        "            if i < len(self.transitions):\n",
        "                x = self.transitions[i](x, training=training)\n",
        "                \n",
        "        x = self.bn(x)\n",
        "        x = tf.nn.relu(x)\n",
        "        \n",
        "        x = self.pool(x)\n",
        "        return self.dense(x)"
      ],
      "id": "a8fedd63",
      "execution_count": 7,
      "outputs": []
    },
    {
      "cell_type": "markdown",
      "metadata": {
        "id": "d1d52e83"
      },
      "source": [
        "# Training Utils"
      ],
      "id": "d1d52e83"
    },
    {
      "cell_type": "code",
      "metadata": {
        "id": "d8d284f6"
      },
      "source": [
        "def train_step(model, input, target, loss_function, optimizer):\n",
        "# loss_object and optimizer_object are instances of respective tensorflow classes\n",
        "    with tf.GradientTape() as tape:\n",
        "        prediction = model(input)\n",
        "        loss = loss_function(target, prediction)\n",
        "        gradients = tape.gradient(loss, model.trainable_variables)\n",
        "    optimizer.apply_gradients(zip(gradients, model.trainable_variables))\n",
        "    return loss\n",
        "\n",
        "\n",
        "def test(model, test_data, loss_function):\n",
        "# test over complete test data\n",
        "\n",
        "    test_accuracy_aggregator = []\n",
        "    test_loss_aggregator = []\n",
        "\n",
        "    for (input, target) in test_data:\n",
        "        prediction = model(input)\n",
        "        sample_test_loss = loss_function(target, prediction)\n",
        "        sample_test_accuracy =  np.argmax(target, axis=1) == np.argmax(prediction, axis=1)\n",
        "        sample_test_accuracy = np.mean(sample_test_accuracy)\n",
        "        test_loss_aggregator.append(sample_test_loss.numpy())\n",
        "        test_accuracy_aggregator.append(np.mean(sample_test_accuracy))\n",
        "\n",
        "    test_loss = tf.reduce_mean(test_loss_aggregator)\n",
        "    test_accuracy = tf.reduce_mean(test_accuracy_aggregator)\n",
        "\n",
        "    return test_loss, test_accuracy\n",
        "\n",
        "\n",
        "def train(model, train_ds, test_ds, num_epochs, optimizer, loss_fn):\n",
        "    tf.keras.backend.clear_session()\n",
        "    \n",
        "    # Initialize lists for later visualization.\n",
        "    train_losses = []\n",
        "\n",
        "    test_losses = []\n",
        "    test_accuracies = []\n",
        "\n",
        "    #testing once before we begin\n",
        "    test_loss, test_accuracy = test(model, test_ds, loss_fn)\n",
        "    test_losses.append(test_loss)\n",
        "    test_accuracies.append(test_accuracy)\n",
        "\n",
        "    #check how model performs on train data once before we begin\n",
        "    train_loss, _ = test(model, train_ds, loss_fn)\n",
        "    train_losses.append(train_loss)\n",
        "\n",
        "    # We train for num_epochs epochs.\n",
        "    for epoch in range(num_epochs):\n",
        "        print(f'Epoch: {str(epoch)} starting with accuracy {test_accuracies[-1]}')\n",
        "\n",
        "        #training (and checking in with training)\n",
        "        epoch_loss_agg = []\n",
        "        for input,target in train_ds:\n",
        "            train_loss = train_step(model, input, target, loss_fn, optimizer)\n",
        "            epoch_loss_agg.append(train_loss)\n",
        "\n",
        "        #track training loss\n",
        "        train_losses.append(tf.reduce_mean(epoch_loss_agg))\n",
        "\n",
        "        #testing, so we can track accuracy and test loss\n",
        "        test_loss, test_accuracy = test(model, test_ds, loss_fn)\n",
        "        test_losses.append(test_loss)\n",
        "        test_accuracies.append(test_accuracy)\n",
        "        \n",
        "    return train_losses, test_losses, test_accuracies\n",
        "\n",
        "\n",
        "def visualize_training(train_losses, test_losses, test_accuracies):\n",
        "    # Visualize accuracy and loss for training and test data.\n",
        "    plt.figure()\n",
        "    line1, = plt.plot(train_losses)\n",
        "    line2, = plt.plot(test_losses)\n",
        "    line3, = plt.plot(test_accuracies)\n",
        "    plt.xlabel(\"Training steps\")\n",
        "    plt.ylabel(\"Loss/Accuracy\")\n",
        "    plt.legend((line1,line2, line3),(\"training\", \"test\", \"test accuracy\"))\n",
        "    plt.show()"
      ],
      "id": "d8d284f6",
      "execution_count": 8,
      "outputs": []
    },
    {
      "cell_type": "markdown",
      "metadata": {
        "id": "9a6e1296"
      },
      "source": [
        "# Training"
      ],
      "id": "9a6e1296"
    },
    {
      "cell_type": "code",
      "metadata": {
        "colab": {
          "base_uri": "https://localhost:8080/",
          "height": 888
        },
        "id": "e3d98cae",
        "outputId": "faff2dc5-aa0e-404d-9bfa-7875e959c260"
      },
      "source": [
        "train_ds, test_ds = tfds.load('cifar10', split=['train','test'], as_supervised=True)\n",
        "train_ds, test_ds = prepare_data(train_ds), prepare_data(test_ds)\n",
        "\n",
        "resnet = ResNet(n_filters=[8,16,32], out_filters=[32,32,32], modes=[\"normal\",\"strided\",\"constant\"])\n",
        "densenet = DenseNet(n_blocks=[2,4,3], n_filters=4, growth_rate=4)\n",
        "\n",
        "#For showcasing we only use a subset of the training and test data (generally use all of the available data!)\n",
        "train_ds = train_ds.take(1000)\n",
        "test_ds = test_ds.take(100)\n",
        "\n",
        "### Hyperparameters\n",
        "num_epochs = 10\n",
        "learning_rate = 0.001\n",
        "momentum = 0.5\n",
        "\n",
        "# Initialize the loss: categorical cross entropy. Check out 'tf.keras.losses'.\n",
        "cross_entropy_loss = tf.keras.losses.CategoricalCrossentropy()\n",
        "# Initialize the optimizer: Adam. Check out 'tf.keras.optimizers'\n",
        "optimizer = tf.keras.optimizers.Adam(learning_rate, momentum)\n",
        "\n",
        "with tf.device('/device:gpu:0'):\n",
        "    hist_resnet = train(model=resnet, train_ds=train_ds, test_ds=test_ds, num_epochs=num_epochs, optimizer=optimizer, loss_fn=cross_entropy_loss)\n",
        "    hist_densnet = train(model=densenet, train_ds=train_ds, test_ds=test_ds, num_epochs=num_epochs, optimizer=optimizer, loss_fn=cross_entropy_loss)\n",
        "\n",
        "visualize_training(*hist_resnet)\n",
        "visualize_training(*hist_densnet)"
      ],
      "id": "e3d98cae",
      "execution_count": 10,
      "outputs": [
        {
          "output_type": "stream",
          "name": "stdout",
          "text": [
            "Epoch: 0 starting with accuracy 0.0992879746835443\n",
            "Epoch: 1 starting with accuracy 0.35868275316455694\n",
            "Epoch: 2 starting with accuracy 0.40367879746835444\n",
            "Epoch: 3 starting with accuracy 0.44214794303797467\n",
            "Epoch: 4 starting with accuracy 0.44966376582278483\n",
            "Epoch: 5 starting with accuracy 0.43482990506329117\n",
            "Epoch: 6 starting with accuracy 0.471123417721519\n",
            "Epoch: 7 starting with accuracy 0.49930775316455694\n",
            "Epoch: 8 starting with accuracy 0.49376977848101267\n",
            "Epoch: 9 starting with accuracy 0.5188884493670886\n",
            "Epoch: 0 starting with accuracy 0.08524525316455696\n",
            "Epoch: 1 starting with accuracy 0.377373417721519\n",
            "Epoch: 2 starting with accuracy 0.4155458860759494\n",
            "Epoch: 3 starting with accuracy 0.43156645569620256\n",
            "Epoch: 4 starting with accuracy 0.44788370253164556\n",
            "Epoch: 5 starting with accuracy 0.4606408227848101\n",
            "Epoch: 6 starting with accuracy 0.46232199367088606\n",
            "Epoch: 7 starting with accuracy 0.47132120253164556\n",
            "Epoch: 8 starting with accuracy 0.4735957278481013\n",
            "Epoch: 9 starting with accuracy 0.49386867088607594\n"
          ]
        },
        {
          "output_type": "display_data",
          "data": {
            "image/png": "[encoded data removed]",
            "text/plain": [
              "<Figure size 432x288 with 1 Axes>"
            ]
          },
          "metadata": {
            "needs_background": "light"
          }
        },
        {
          "output_type": "display_data",
          "data": {
            "image/png": "[encoded data removed]",
            "text/plain": [
              "<Figure size 432x288 with 1 Axes>"
            ]
          },
          "metadata": {
            "needs_background": "light"
          }
        }
      ]
    },
    {
      "cell_type": "code",
      "metadata": {
        "id": "aec636d2"
      },
      "source": [
        ""
      ],
      "id": "aec636d2",
      "execution_count": null,
      "outputs": []
    }
  ]
}