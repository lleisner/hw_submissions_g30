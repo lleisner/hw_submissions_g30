{
  "nbformat": 4,
  "nbformat_minor": 0,
  "metadata": {
    "colab": {
      "name": "Untitled3.ipynb",
      "provenance": [],
      "collapsed_sections": []
    },
    "kernelspec": {
      "name": "python3",
      "display_name": "Python 3"
    },
    "language_info": {
      "name": "python"
    }
  },
  "cells": [
    {
      "cell_type": "code",
      "source": [
        "import numpy as np\n",
        "import tensorflow as tf"
      ],
      "metadata": {
        "id": "Exee-KpDaeBH"
      },
      "execution_count": 34,
      "outputs": []
    },
    {
      "cell_type": "code",
      "execution_count": 11,
      "metadata": {
        "colab": {
          "base_uri": "https://localhost:8080/"
        },
        "id": "YtGZOmFAYqpl",
        "outputId": "f1a27525-710e-4383-e845-38f7f90a2757"
      },
      "outputs": [
        {
          "output_type": "stream",
          "name": "stdout",
          "text": [
            "(array([ 0.13196764, -0.29037835, -0.8712971 , -0.82265928, -0.34207649]), False)\n",
            "(array([ 0.13196764, -0.29037835, -0.8712971 , -0.82265928, -0.34207649]), False)\n",
            "(array([ 0.13196764, -0.29037835, -0.8712971 , -0.82265928, -0.34207649]), False)\n",
            "(array([ 0.13196764, -0.29037835, -0.8712971 , -0.82265928, -0.34207649]), False)\n",
            "(array([ 0.13196764, -0.29037835, -0.8712971 , -0.82265928, -0.34207649]), False)\n",
            "(array([ 0.13196764, -0.29037835, -0.8712971 , -0.82265928, -0.34207649]), False)\n",
            "(array([ 0.13196764, -0.29037835, -0.8712971 , -0.82265928, -0.34207649]), False)\n"
          ]
        }
      ],
      "source": [
        "def integration_task(seq_len, num_sapmles):\n",
        "  noise = np.random.rand(seq_len) * 2 - 1\n",
        "  target = np.sum(noise) >= 0\n",
        "  for i in range(num_sapmles):\n",
        "    yield noise, target"
      ]
    },
    {
      "cell_type": "code",
      "source": [
        "seq_len = 10\n",
        "num_sapmles = 50\n",
        "\n",
        "def my_integration_task():\n",
        "  for i in integration_task(seq_len, num_sapmles):\n",
        "    yield i"
      ],
      "metadata": {
        "id": "-VSyT-zFdWGg"
      },
      "execution_count": 23,
      "outputs": []
    },
    {
      "cell_type": "code",
      "source": [
        "ds = tf.data.Dataset.from_generator(my_integration_task, output_signature=(\n",
        "         tf.TensorSpec(shape=(seq_len,), dtype=tf.float64),\n",
        "         tf.TensorSpec(shape=(), dtype=tf.int32)))\n",
        "\n"
      ],
      "metadata": {
        "colab": {
          "base_uri": "https://localhost:8080/"
        },
        "id": "R8JuQEDBe02L",
        "outputId": "5aa2f6b1-ad03-4d89-d85c-965498247d56"
      },
      "execution_count": 35,
      "outputs": [
        {
          "output_type": "stream",
          "name": "stdout",
          "text": [
            "<FlatMapDataset shapes: ((10,), ()), types: (tf.float64, tf.int32)>\n"
          ]
        }
      ]
    },
    {
      "cell_type": "code",
      "source": [
        "class CustomSimpleRNNCell(tf.keras.layers.Layer):\n",
        "    def __init__(self, units, kernel_regularizer=None ):\n",
        "        super(CustomSimpleRNNCell, self).__init__()\n",
        "        \n",
        "        self.units = units\n",
        "        \n",
        "        self.dense_forget = tf.keras.layers.Dense(units, \n",
        "                                                  activation=None,\n",
        "                                                 kernel_regularizer=kernel_regularizer, \n",
        "                                                 use_bias=False)\n",
        "\n",
        "        self.forget_bias = tf.Variable(tf.ones(units), name=\"RNN_forget_biases\")\n",
        "\n",
        "        self.dense_input = tf.keras.layers.Dense(units, \n",
        "                                                  activation=None,\n",
        "                                                 kernel_regularizer=kernel_regularizer, \n",
        "                                                 use_bias=False)\n",
        "        \n",
        "        self.input_bias = tf.Variable(tf.zeros(units), name=\"RNN_input_biases\")\n",
        "\n",
        "        self.dense_hstate = tf.keras.layers.Dense(units, \n",
        "                                                  activation=None,\n",
        "                                                  kernel_regularizer=kernel_regularizer, \n",
        "                                                  use_bias=False)\n",
        "        \n",
        "        self.hstate_bias = tf.Variable(tf.zeros(units), name=\"RNN_state_biases\")\n",
        "\n",
        "        self.dense_output = tf.keras.layers.Dense(units, \n",
        "                                                  activation=None,\n",
        "                                                  kernel_regularizer=kernel_regularizer, \n",
        "                                                  use_bias=False)\n",
        "        \n",
        "        self.output_bias = tf.Variable(tf.zeros(units), name=\"RNN_output_bias\")\n",
        "        \n",
        "        self.state_size = units\n",
        "        \n",
        "    @tf.function\n",
        "    def call(self, input_t, state, training=False):\n",
        "        \n",
        "        # we compute the sum of the input at t matrix multiplied and the previous state matrix multiplied\n",
        "        # and an additional bias added.\n",
        "        \n",
        "        f_t = tf.keras.activations.sigmoid(self.dense_forget(np.concatenate([state[0], input_t])) + self.forget_bias)\n",
        "\n",
        "        i_t = tf.keras.activations.sigmoid(self.dense_input(np.concatenate([state[0], input_t])) + self.input_bias)\n",
        "\n",
        "        C_t = tf.keras.activations.tanh(self.dense_hstate(np.concatenate([state[0], input_t])) + self.hstate_bias)\n",
        "\n",
        "        o_t = tf-keras.activations.sigmoid(self.dense_output(np.concatenate([state[0], input_t])) self.output_bias)\n",
        "\n",
        "        C_t = tf.math.multiply(f_t, state[1]) + tf.math.multiply(i_t, C_t)\n",
        "\n",
        "        h_t = tf.math.multiply(o_t, tf.keras.activations.tanh(C_t))\n",
        "\n",
        "        state = (h_t, C_t)\n",
        "        \n",
        "        return state"
      ],
      "metadata": {
        "id": "bDuL947npfyr"
      },
      "execution_count": null,
      "outputs": []
    },
    {
      "cell_type": "code",
      "source": [
        "class RNNLayer(tf.keras.layers.Layer):\n",
        "  def __init__(self, cell):\n",
        "    self.cell = cell\n",
        "\n",
        "  @tf.function\n",
        "  def call(self, x, states):\n",
        "    i = tf.constant(0)\n",
        "    c = lambda x2\n",
        "    b = lambda x2, m: [i+1, tf.concat([m, m], axis=0)]\n",
        "    tf.while_loop(\n",
        "        c, b, loop_vars=[x],\n",
        "        shape_invariants=[x.get_shape()])"
      ],
      "metadata": {
        "id": "h_GZ3o-3ZCiG"
      },
      "execution_count": null,
      "outputs": []
    },
    {
      "cell_type": "code",
      "source": [
        "class RNNModel(tf.keras.layers.Layer):\n",
        "    def __init__(self, RNN_Cell, return_sequences=False):\n",
        "        super(RNNModel, self).__init__()\n",
        "        \n",
        "        self.return_sequences = return_sequences\n",
        "        \n",
        "        self.cell = RNN_Cell\n",
        "\n",
        "    def call(self, data, training=False):\n",
        "        \n",
        "        length = data.shape[1]\n",
        "        \n",
        "        # initialize state of the simple rnn cell\n",
        "        state = tf.zeros((data.shape[0], self.cell.units), tf.float32)\n",
        "        \n",
        "        # initialize array for hidden states (only relevant if self.return_sequences == True)\n",
        "        hidden_states = tf.TensorArray(dtype=tf.float32, size=length)\n",
        "\n",
        "        for t in tf.range(length):\n",
        "            input_t = data[:,t,:]\n",
        "\n",
        "            state = self.cell(input_t, state, training)\n",
        "\n",
        "            if self.return_sequences:\n",
        "                # write the states to the TensorArray\n",
        "                #hidden_states = hidden_states.write(t, state)\n",
        "                hidden_states.append(state)\n",
        "        \n",
        "        if self.return_sequences:\n",
        "            # transpose the sequence of hidden_states from TensorArray accordingly \n",
        "            #(batch and time dimensions are otherwise switched after .stack())\n",
        "            outputs = tf.transpose(hidden_states.stack(), [1,0,2])\n",
        "        \n",
        "        else:\n",
        "            # take the last hidden state of the simple rnn cell\n",
        "            outputs = state\n",
        "        \n",
        "        return outputs\n"
      ],
      "metadata": {
        "id": "pPa0PEUinFUJ"
      },
      "execution_count": null,
      "outputs": []
    },
    {
      "cell_type": "code",
      "source": [
        "tf.keras.backend.clear_session()\n",
        "\n",
        "#For showcasing we only use a subset of the training and test data (generally use all of the available data!)\n",
        "#train_dataset = train_dataset.take(1000)\n",
        "#test_dataset = test_dataset.take(100)\n",
        "\n",
        "### Hyperparameters\n",
        "num_epochs = 15\n",
        "learning_rate = 0.0005\n",
        "\n",
        "# Initialize the model.\n",
        "model = RNNModel()\n",
        "# Initialize the loss: categorical cross entropy. Check out 'tf.keras.losses'.\n",
        "cross_entropy_loss = tf.keras.losses.BinaryCrossentropy()\n",
        "# Initialize the optimizer: SGD with default parameters. Check out 'tf.keras.optimizers'\n",
        "optimizer = tf.keras.optimizers.SGD(learning_rate)\n",
        "\n",
        "# Initialize lists for later visualization.\n",
        "train_losses = []\n",
        "\n",
        "test_losses = []\n",
        "test_accuracies = []\n",
        "\n",
        "#testing once before we begin\n",
        "test_loss, test_accuracy = test(model, test_ds, cross_entropy_loss)\n",
        "test_losses.append(test_loss)\n",
        "test_accuracies.append(test_accuracy)\n",
        "\n",
        "#check how model performs on train data once before we begin\n",
        "train_loss, _ = test(model, train_ds, cross_entropy_loss)\n",
        "train_losses.append(train_loss)\n",
        "\n",
        "# We train for num_epochs epochs.\n",
        "for epoch in range(num_epochs):\n",
        "    print(f'Epoch: {str(epoch)} starting with accuracy {test_accuracies[-1]}')\n",
        "\n",
        "    #training (and checking in with training)\n",
        "    epoch_loss_agg = []\n",
        "    for input,target in train_ds:\n",
        "        train_loss = train_step(model, input, target, cross_entropy_loss, optimizer)\n",
        "        epoch_loss_agg.append(train_loss)\n",
        "    \n",
        "    #track training loss\n",
        "    train_losses.append(tf.reduce_mean(epoch_loss_agg))\n",
        "\n",
        "    #testing, so we can track accuracy and test loss\n",
        "    test_loss, test_accuracy = test(model, test_ds, cross_entropy_loss)\n",
        "    test_losses.append(test_loss)\n",
        "    test_accuracies.append(test_accuracy)"
      ],
      "metadata": {
        "id": "SGdRveyfgkcK"
      },
      "execution_count": null,
      "outputs": []
    }
  ]
}